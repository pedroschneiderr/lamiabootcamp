{
 "cells": [
  {
   "cell_type": "code",
   "execution_count": 1,
   "id": "40f02916",
   "metadata": {
    "_cell_guid": "b1076dfc-b9ad-4769-8c92-a6c4dae69d19",
    "_uuid": "8f2839f25d086af736a60e9eeb907d3b93b6e0e5",
    "execution": {
     "iopub.execute_input": "2024-10-07T00:36:47.590687Z",
     "iopub.status.busy": "2024-10-07T00:36:47.590062Z",
     "iopub.status.idle": "2024-10-07T00:36:52.275335Z",
     "shell.execute_reply": "2024-10-07T00:36:52.273959Z"
    },
    "papermill": {
     "duration": 4.693592,
     "end_time": "2024-10-07T00:36:52.278379",
     "exception": false,
     "start_time": "2024-10-07T00:36:47.584787",
     "status": "completed"
    },
    "tags": []
   },
   "outputs": [],
   "source": [
    "import torch\n",
    "import numpy as np\n",
    "from torchvision.datasets import CIFAR10\n",
    "from torch.utils.data import DataLoader\n",
    "import matplotlib.pyplot as plt\n",
    "from torch import nn\n",
    "from torch.optim import Adam"
   ]
  },
  {
   "cell_type": "code",
   "execution_count": 2,
   "id": "c9e06ae2",
   "metadata": {
    "execution": {
     "iopub.execute_input": "2024-10-07T00:36:52.291323Z",
     "iopub.status.busy": "2024-10-07T00:36:52.290278Z",
     "iopub.status.idle": "2024-10-07T00:36:52.350062Z",
     "shell.execute_reply": "2024-10-07T00:36:52.348870Z"
    },
    "papermill": {
     "duration": 0.068291,
     "end_time": "2024-10-07T00:36:52.352420",
     "exception": false,
     "start_time": "2024-10-07T00:36:52.284129",
     "status": "completed"
    },
    "tags": []
   },
   "outputs": [],
   "source": [
    "device = 'cuda' if torch.cuda.is_available() else 'cpu'"
   ]
  },
  {
   "cell_type": "code",
   "execution_count": 3,
   "id": "fe28df58",
   "metadata": {
    "execution": {
     "iopub.execute_input": "2024-10-07T00:36:52.361133Z",
     "iopub.status.busy": "2024-10-07T00:36:52.360785Z",
     "iopub.status.idle": "2024-10-07T00:36:57.953528Z",
     "shell.execute_reply": "2024-10-07T00:36:57.952613Z"
    },
    "papermill": {
     "duration": 5.599205,
     "end_time": "2024-10-07T00:36:57.955631",
     "exception": false,
     "start_time": "2024-10-07T00:36:52.356426",
     "status": "completed"
    },
    "tags": []
   },
   "outputs": [
    {
     "name": "stdout",
     "output_type": "stream",
     "text": [
      "Downloading https://www.cs.toronto.edu/~kriz/cifar-10-python.tar.gz to /working/kaggle/cifar-10-python.tar.gz\n"
     ]
    },
    {
     "name": "stderr",
     "output_type": "stream",
     "text": [
      "100%|██████████| 170498071/170498071 [00:02<00:00, 61382500.61it/s]\n"
     ]
    },
    {
     "name": "stdout",
     "output_type": "stream",
     "text": [
      "Extracting /working/kaggle/cifar-10-python.tar.gz to /working/kaggle\n"
     ]
    },
    {
     "data": {
      "text/plain": [
       "Dataset CIFAR10\n",
       "    Number of datapoints: 50000\n",
       "    Root location: /working/kaggle\n",
       "    Split: Train"
      ]
     },
     "execution_count": 3,
     "metadata": {},
     "output_type": "execute_result"
    }
   ],
   "source": [
    "# baixa o dataset\n",
    "data_folder = '/working/kaggle'\n",
    "CIFAR10(data_folder, download=True)"
   ]
  },
  {
   "cell_type": "code",
   "execution_count": 4,
   "id": "f3a1cafa",
   "metadata": {
    "execution": {
     "iopub.execute_input": "2024-10-07T00:36:57.969628Z",
     "iopub.status.busy": "2024-10-07T00:36:57.969276Z",
     "iopub.status.idle": "2024-10-07T00:36:58.809382Z",
     "shell.execute_reply": "2024-10-07T00:36:58.808346Z"
    },
    "papermill": {
     "duration": 0.84963,
     "end_time": "2024-10-07T00:36:58.811806",
     "exception": false,
     "start_time": "2024-10-07T00:36:57.962176",
     "status": "completed"
    },
    "tags": []
   },
   "outputs": [],
   "source": [
    "class Colorize(CIFAR10): # herda da CIFAR10\n",
    "    \"\"\"\n",
    "    Classe que constrói uma versão modificada do dataset CIFAR10 para posterior colorização\n",
    "    A função __getitem__ é sobrescrita\n",
    "    \"\"\"\n",
    "    def __init__(self, root, train):\n",
    "        super().__init__(root, train) # diretório onde está o DS e se é de treino ou não\n",
    "    \n",
    "    def __getitem__(self, ix):\n",
    "        im, _ = super().__getitem__(ix) # retorna a imagem e a classe, que não interessa\n",
    "        bw = im.convert('L').convert('RGB') # cria uma versão graysclae da imagem, mas em formato RGB\n",
    "        bw, im = np.array(bw)/255., np.array(im)/255. # normaliza ambas as imagens\n",
    "        bw, im = [torch.tensor(i).permute(2, 0, 1).to(device).float() for i in [bw, im]] # converte ambas as imagens para tensor, redimensiona para o pytorch, coloca em device e converte para float\n",
    "        return bw, im\n",
    "\n",
    "trn_ds = Colorize(data_folder, train=True) # cria o conjunto de treino para colorização\n",
    "val_ds = Colorize(data_folder, train=False) # cria o conjunto de validação\n",
    "\n",
    "batch_size = 256\n",
    "trn_dl = DataLoader(trn_ds, batch_size=batch_size, shuffle=True) # cria o dataloader para batches de treino\n",
    "val_dl = DataLoader(val_ds, batch_size=batch_size, shuffle=False) # cria o dataloader para batcher de validação"
   ]
  },
  {
   "cell_type": "code",
   "execution_count": 5,
   "id": "6b76cc72",
   "metadata": {
    "execution": {
     "iopub.execute_input": "2024-10-07T00:36:58.825507Z",
     "iopub.status.busy": "2024-10-07T00:36:58.825196Z",
     "iopub.status.idle": "2024-10-07T00:36:59.168804Z",
     "shell.execute_reply": "2024-10-07T00:36:59.167413Z"
    },
    "papermill": {
     "duration": 0.35412,
     "end_time": "2024-10-07T00:36:59.172202",
     "exception": false,
     "start_time": "2024-10-07T00:36:58.818082",
     "status": "completed"
    },
    "tags": []
   },
   "outputs": [
    {
     "data": {
      "image/png": "[encoded data removed]",
      "text/plain": [
       "<Figure size 300x300 with 2 Axes>"
      ]
     },
     "metadata": {},
     "output_type": "display_data"
    }
   ],
   "source": [
    "# visualizando um exemplo\n",
    "a, b = trn_ds[0]\n",
    "fig, ax = plt.subplots(1, 2, figsize=(3,3))\n",
    "ax[0].imshow(a[0].cpu().numpy(), cmap='gray')\n",
    "ax[0].axis('off')\n",
    "ax[1].imshow(b.permute(2, 1, 0).cpu().numpy(), cmap='gray')\n",
    "ax[1].axis('off')\n",
    "plt.tight_layout()\n",
    "plt.show()"
   ]
  },
  {
   "cell_type": "code",
   "execution_count": 6,
   "id": "1fe4eeb2",
   "metadata": {
    "execution": {
     "iopub.execute_input": "2024-10-07T00:36:59.204341Z",
     "iopub.status.busy": "2024-10-07T00:36:59.203565Z",
     "iopub.status.idle": "2024-10-07T00:36:59.233662Z",
     "shell.execute_reply": "2024-10-07T00:36:59.232555Z"
    },
    "papermill": {
     "duration": 0.048653,
     "end_time": "2024-10-07T00:36:59.236769",
     "exception": false,
     "start_time": "2024-10-07T00:36:59.188116",
     "status": "completed"
    },
    "tags": []
   },
   "outputs": [],
   "source": [
    "class Identity(nn.Module):\n",
    "    \"\"\"\n",
    "    Retorna o input sem mudanças\n",
    "    \"\"\"\n",
    "    def __init__(self):\n",
    "        super().__init__()\n",
    "    def forward(self, x):\n",
    "        return x\n",
    "    \n",
    "class DownConv(nn.Module):\n",
    "    \"\"\"\n",
    "    Faz o downsample da imagem, extraindo as features\n",
    "    \"\"\"\n",
    "    def __init__(self, ni, no, maxpool=True):\n",
    "        super().__init__()\n",
    "        self.model = nn.Sequential(\n",
    "            nn.MaxPool2d(2) if maxpool else Identity(),\n",
    "            nn.Conv2d(ni, no, 3, padding=1),\n",
    "            nn.BatchNorm2d(no),\n",
    "            nn.LeakyReLU(0.2, inplace=True),\n",
    "            nn.Conv2d(no, no, 3, padding=1),\n",
    "            nn.BatchNorm2d(no),\n",
    "            nn.LeakyReLU(0.2, inplace=True),\n",
    "        )\n",
    "    def forward(self, x):\n",
    "        return self.model(x)\n",
    "    \n",
    "class UpConv(nn.Module):\n",
    "    \"\"\"\n",
    "    Faz o upsample da imagem\n",
    "    \"\"\"\n",
    "    def __init__(self, ni, no, maxpool=True):\n",
    "        super().__init__()\n",
    "        self.convtranspose = nn.ConvTranspose2d(ni, no, 2, stride=2)\n",
    "        self.convlayers = nn.Sequential(\n",
    "            nn.Conv2d(no+no, no, 3, padding=1),\n",
    "            nn.BatchNorm2d(no),\n",
    "            nn.LeakyReLU(0.2, inplace=True),\n",
    "            nn.Conv2d(no, no, 3, padding=1),\n",
    "            nn.BatchNorm2d(no),\n",
    "            nn.LeakyReLU(0.2, inplace=True),\n",
    "        )\n",
    "        \n",
    "    def forward(self, x, y):\n",
    "        x = self.convtranspose(x)\n",
    "        x = torch.cat([x,y], axis=1)\n",
    "        x = self.convlayers(x)\n",
    "        return x\n",
    "\n",
    "class UNet(nn.Module):\n",
    "    def __init__(self):\n",
    "        super().__init__()\n",
    "        self.d1 = DownConv( 3, 64, maxpool=False)\n",
    "        self.d2 = DownConv( 64, 128)\n",
    "        self.d3 = DownConv( 128, 256)\n",
    "        self.d4 = DownConv( 256, 512)\n",
    "        self.d5 = DownConv( 512, 1024)\n",
    "        self.u5 = UpConv (1024, 512)\n",
    "        self.u4 = UpConv ( 512, 256)\n",
    "        self.u3 = UpConv ( 256, 128)\n",
    "        self.u2 = UpConv ( 128, 64)\n",
    "        self.u1 = nn.Conv2d(64, 3, kernel_size=1, stride=1)\n",
    "\n",
    "    def forward(self, x):\n",
    "        x0 = self.d1( x) \n",
    "        x1 = self.d2(x0) \n",
    "        x2 = self.d3(x1) \n",
    "        x3 = self.d4(x2) \n",
    "        x4 = self.d5(x3) \n",
    "        X4 = self.u5(x4, x3)\n",
    "        X3 = self.u4(X4, x2)\n",
    "        X2 = self.u3(X3, x1)\n",
    "        X1 = self.u2(X2, x0)\n",
    "        X0 = self.u1(X1) \n",
    "        return X0"
   ]
  },
  {
   "cell_type": "code",
   "execution_count": 7,
   "id": "c96ae095",
   "metadata": {
    "execution": {
     "iopub.execute_input": "2024-10-07T00:36:59.263672Z",
     "iopub.status.busy": "2024-10-07T00:36:59.263381Z",
     "iopub.status.idle": "2024-10-07T00:36:59.267984Z",
     "shell.execute_reply": "2024-10-07T00:36:59.267144Z"
    },
    "papermill": {
     "duration": 0.019874,
     "end_time": "2024-10-07T00:36:59.269875",
     "exception": false,
     "start_time": "2024-10-07T00:36:59.250001",
     "status": "completed"
    },
    "tags": []
   },
   "outputs": [],
   "source": [
    "def get_model():\n",
    "    \"\"\"\n",
    "    Retorna um modelo UNet com optimizador Adam e função de custo Mean Squared Error\n",
    "    \"\"\"\n",
    "    model = UNet().to(device)\n",
    "    optimizer = optim.Adam(model.parameters(), lr=1e-3)\n",
    "    loss_fn = nn.MSELoss()\n",
    "    return model, optimizer, loss_fn"
   ]
  },
  {
   "cell_type": "code",
   "execution_count": 8,
   "id": "aa30f5e8",
   "metadata": {
    "execution": {
     "iopub.execute_input": "2024-10-07T00:36:59.283450Z",
     "iopub.status.busy": "2024-10-07T00:36:59.283150Z",
     "iopub.status.idle": "2024-10-07T00:36:59.289128Z",
     "shell.execute_reply": "2024-10-07T00:36:59.288293Z"
    },
    "papermill": {
     "duration": 0.014999,
     "end_time": "2024-10-07T00:36:59.291077",
     "exception": false,
     "start_time": "2024-10-07T00:36:59.276078",
     "status": "completed"
    },
    "tags": []
   },
   "outputs": [],
   "source": [
    "def train_batch(model, data, optimizer, criterion):\n",
    "    \"\"\"\n",
    "    Treina o modelo com o batch e retorna o erro\n",
    "    \"\"\"\n",
    "    model.train()\n",
    "    x, y = data\n",
    "    _y = model(x)\n",
    "    optimizer.zero_grad()\n",
    "    loss = criterion(_y, y)\n",
    "    loss.backward()\n",
    "    optimizer.step()\n",
    "    return loss.item()\n",
    "\n",
    "@torch.no_grad()\n",
    "def validate_batch(model, data, criterion):\n",
    "    \"\"\"\n",
    "    Avalia o modelo com o batch e retorna o erro\n",
    "    \"\"\"\n",
    "    model.eval()\n",
    "    x, y = data\n",
    "    _y = model(x)\n",
    "    loss = criterion(_y, y)\n",
    "    return loss.item()"
   ]
  },
  {
   "cell_type": "code",
   "execution_count": 9,
   "id": "b67bd8c4",
   "metadata": {
    "execution": {
     "iopub.execute_input": "2024-10-07T00:36:59.304546Z",
     "iopub.status.busy": "2024-10-07T00:36:59.304251Z",
     "iopub.status.idle": "2024-10-07T02:04:39.862496Z",
     "shell.execute_reply": "2024-10-07T02:04:39.861508Z"
    },
    "papermill": {
     "duration": 5260.567715,
     "end_time": "2024-10-07T02:04:39.864892",
     "exception": false,
     "start_time": "2024-10-07T00:36:59.297177",
     "status": "completed"
    },
    "tags": []
   },
   "outputs": [
    {
     "name": "stdout",
     "output_type": "stream",
     "text": [
      "0\n",
      "1\n",
      "2\n",
      "3\n",
      "4\n",
      "5\n",
      "6\n",
      "7\n",
      "8\n",
      "9\n",
      "10\n",
      "11\n",
      "12\n",
      "13\n",
      "14\n",
      "15\n",
      "16\n",
      "17\n",
      "18\n",
      "19\n",
      "20\n",
      "21\n",
      "22\n",
      "23\n",
      "24\n",
      "25\n",
      "26\n",
      "27\n",
      "28\n",
      "29\n",
      "30\n",
      "31\n",
      "32\n",
      "33\n",
      "34\n",
      "35\n",
      "36\n",
      "37\n",
      "38\n",
      "39\n",
      "40\n",
      "41\n",
      "42\n",
      "43\n",
      "44\n",
      "45\n",
      "46\n",
      "47\n",
      "48\n",
      "49\n",
      "50\n",
      "51\n",
      "52\n",
      "53\n",
      "54\n",
      "55\n",
      "56\n",
      "57\n",
      "58\n",
      "59\n",
      "60\n",
      "61\n",
      "62\n",
      "63\n",
      "64\n",
      "65\n",
      "66\n",
      "67\n",
      "68\n",
      "69\n",
      "70\n",
      "71\n",
      "72\n",
      "73\n",
      "74\n",
      "75\n",
      "76\n",
      "77\n",
      "78\n",
      "79\n",
      "80\n",
      "81\n",
      "82\n",
      "83\n",
      "84\n",
      "85\n",
      "86\n",
      "87\n",
      "88\n",
      "89\n",
      "90\n",
      "91\n",
      "92\n",
      "93\n",
      "94\n",
      "95\n",
      "96\n",
      "97\n",
      "98\n",
      "99\n"
     ]
    }
   ],
   "source": [
    "from torch import optim\n",
    "model, optimizer, criterion = get_model()\n",
    "exp_lr_scheduler = optim.lr_scheduler.StepLR(optimizer, step_size=10, gamma=0.1)\n",
    "train_epoch_losses, val_epoch_losses = [], []\n",
    "\n",
    "#_val_dl = DataLoader(val_ds, batch_size=1, shuffle=True)\n",
    "\n",
    "n_epochs = 100\n",
    "for ex in range(n_epochs):\n",
    "    print(ex)\n",
    "        \n",
    "    trn_batch_losses, val_batch_losses = [], []\n",
    "    \n",
    "    for data in iter(trn_dl):\n",
    "        loss = train_batch(model, data, optimizer, criterion)\n",
    "        trn_batch_losses.append(loss)\n",
    "    train_epoch_losses.append(np.array(trn_batch_losses).mean())\n",
    "\n",
    "    for data in iter(val_dl):\n",
    "        loss = validate_batch(model, data, criterion)\n",
    "        val_batch_losses.append(loss)\n",
    "    val_epoch_losses.append(np.array(val_batch_losses).mean())\n",
    "    \n",
    "    exp_lr_scheduler.step()"
   ]
  },
  {
   "cell_type": "code",
   "execution_count": 10,
   "id": "7cf85854",
   "metadata": {
    "execution": {
     "iopub.execute_input": "2024-10-07T02:04:39.893995Z",
     "iopub.status.busy": "2024-10-07T02:04:39.893674Z",
     "iopub.status.idle": "2024-10-07T02:04:40.218693Z",
     "shell.execute_reply": "2024-10-07T02:04:40.217843Z"
    },
    "papermill": {
     "duration": 0.342072,
     "end_time": "2024-10-07T02:04:40.220853",
     "exception": false,
     "start_time": "2024-10-07T02:04:39.878781",
     "status": "completed"
    },
    "tags": []
   },
   "outputs": [
    {
     "data": {
      "text/plain": [
       "<matplotlib.legend.Legend at 0x7c4a30f336d0>"
      ]
     },
     "execution_count": 10,
     "metadata": {},
     "output_type": "execute_result"
    },
    {
     "data": {
      "image/png": "[encoded data removed]",
      "text/plain": [
       "<Figure size 640x480 with 1 Axes>"
      ]
     },
     "metadata": {},
     "output_type": "display_data"
    }
   ],
   "source": [
    "plt.plot(train_epoch_losses, label='train losses')\n",
    "plt.plot(val_epoch_losses, label='epoch losses')\n",
    "plt.xlabel('epoch')\n",
    "plt.ylabel('loss')\n",
    "plt.title('loss x epoch')\n",
    "plt.legend()"
   ]
  }
 ],
 "metadata": {
  "kaggle": {
   "accelerator": "gpu",
   "dataSources": [],
   "dockerImageVersionId": 30787,
   "isGpuEnabled": true,
   "isInternetEnabled": true,
   "language": "python",
   "sourceType": "notebook"
  },
  "kernelspec": {
   "display_name": "Python 3",
   "language": "python",
   "name": "python3"
  },
  "language_info": {
   "codemirror_mode": {
    "name": "ipython",
    "version": 3
   },
   "file_extension": ".py",
   "mimetype": "text/x-python",
   "name": "python",
   "nbconvert_exporter": "python",
   "pygments_lexer": "ipython3",
   "version": "3.10.14"
  },
  "papermill": {
   "default_parameters": {},
   "duration": 5276.589491,
   "end_time": "2024-10-07T02:04:41.456666",
   "environment_variables": {},
   "exception": null,
   "input_path": "__notebook__.ipynb",
   "output_path": "__notebook__.ipynb",
   "parameters": {},
   "start_time": "2024-10-07T00:36:44.867175",
   "version": "2.6.0"
  }
 },
 "nbformat": 4,
 "nbformat_minor": 5
}
